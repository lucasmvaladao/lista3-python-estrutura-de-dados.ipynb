{
  "nbformat": 4,
  "nbformat_minor": 0,
  "metadata": {
    "colab": {
      "provenance": [],
      "authorship_tag": "ABX9TyMtmetByFCvR33zkFXy7gNw",
      "include_colab_link": true
    },
    "kernelspec": {
      "name": "python3",
      "display_name": "Python 3"
    },
    "language_info": {
      "name": "python"
    }
  },
  "cells": [
    {
      "cell_type": "markdown",
      "metadata": {
        "id": "view-in-github",
        "colab_type": "text"
      },
      "source": [
        "<a href=\"https://colab.research.google.com/github/lucasmvaladao/lista3-python-estrutura-de-dados.ipynb/blob/main/lista3_python_estrutura_de_dados.ipynb\" target=\"_parent\"><img src=\"https://colab.research.google.com/assets/colab-badge.svg\" alt=\"Open In Colab\"/></a>"
      ]
    },
    {
      "cell_type": "markdown",
      "source": [
        "## Listas Encadeadas"
      ],
      "metadata": {
        "id": "FJd94UBLIUmB"
      }
    },
    {
      "cell_type": "markdown",
      "source": [
        "**1. Como buscar um valor em uma lista encadeada**\n",
        "\n",
        "**Conceito:** Percorremos a lista do início até o fim comparando com o valor procurado.\n",
        "\n",
        "**Enunciado:** Faça um teste buscando os valores 20 e 50"
      ],
      "metadata": {
        "id": "KoTmI4YLDaW5"
      }
    },
    {
      "cell_type": "code",
      "execution_count": null,
      "metadata": {
        "colab": {
          "base_uri": "https://localhost:8080/"
        },
        "id": "qjSVUK-Mvo4D",
        "outputId": "5e7dbfdd-94bd-4bee-e2d6-93559e82dea2"
      },
      "outputs": [
        {
          "output_type": "stream",
          "name": "stdout",
          "text": [
            "Número encontrado.\n",
            "Número não encontrado\n"
          ]
        }
      ],
      "source": [
        "def criar_no(valor, proximo=None):\n",
        "  return{\"valor\": valor, \"proximo\": proximo}\n",
        "\n",
        "def buscar(lista, valor):\n",
        "  atual = lista\n",
        "  while atual is not None:\n",
        "    if atual[\"valor\"] == valor:\n",
        "      print(\"Número encontrado.\")\n",
        "      return\n",
        "    atual = atual[\"proximo\"]\n",
        "  print(\"Número não encontrado\")\n",
        "\n",
        "\n",
        "n3 = criar_no(30)\n",
        "n2 = criar_no(20, n3)\n",
        "n1 = criar_no(10, n2)\n",
        "\n",
        "lista_exemplo = n1\n",
        "\n",
        "buscar(lista_exemplo, 20)\n",
        "buscar(lista_exemplo, 50)\n",
        "\n",
        "\n"
      ]
    },
    {
      "cell_type": "markdown",
      "source": [
        "**2. Como inserir um valor no final da lista encadeada**\n",
        "\n",
        "**Conceito**: Andamos até o último nó (que aponta para None) e colocamos um novo nó\n",
        "lá.\n",
        "\n",
        "**Enunciado**: Adicione o valor 40 ao final de uma lista que já tem 10 → 20 → 30."
      ],
      "metadata": {
        "id": "M9TUXlHGOVrB"
      }
    },
    {
      "cell_type": "code",
      "source": [
        "def inserir_fim(lista, valor):\n",
        "  novo_no = {\"valor\": valor, \"proximo\": None}\n",
        "  if lista is None:\n",
        "    return novo_no\n",
        "  atual = lista\n",
        "  while atual[\"proximo\"] is not None:\n",
        "    atual=atual[\"proximo\"]\n",
        "  atual[\"proximo\"] = novo_no\n",
        "  return lista\n",
        "\n",
        "n3 = criar_no(30)\n",
        "n2 = criar_no(20, n3)\n",
        "n1 = criar_no(10, n2)\n",
        "\n",
        "lista_exemplo = n1\n",
        "\n",
        "inserir_fim(lista_exemplo, 40)"
      ],
      "metadata": {
        "colab": {
          "base_uri": "https://localhost:8080/"
        },
        "id": "FoSewzWNOjbo",
        "outputId": "1504aa9b-baf1-46b4-a6a3-82b6269103a4"
      },
      "execution_count": null,
      "outputs": [
        {
          "output_type": "execute_result",
          "data": {
            "text/plain": [
              "{'valor': 10,\n",
              " 'proximo': {'valor': 20,\n",
              "  'proximo': {'valor': 30, 'proximo': {'valor': 40, 'proximo': None}}}}"
            ]
          },
          "metadata": {},
          "execution_count": 12
        }
      ]
    },
    {
      "cell_type": "markdown",
      "source": [
        "**3. Como remover um valor da lista encadeada**\n",
        "\n",
        "**Conceito:** Se for o primeiro valor, atualizamos o início. Se for no meio ou fim, fazemos\n",
        "o nó anterior apontar para o próximo.\n",
        "\n",
        "**Enunciado:** Remova o valor 20 da lista 10 → 20 → 30"
      ],
      "metadata": {
        "id": "6mRfH1soG95q"
      }
    },
    {
      "cell_type": "code",
      "source": [
        "def remover_valor(lista, valor):\n",
        "  if lista is None:\n",
        "    return None\n",
        "\n",
        "  if lista[\"valor\"] == valor:\n",
        "    return lista[\"proximo\"]\n",
        "\n",
        "  atual = lista\n",
        "\n",
        "  while atual[\"proximo\"] and atual[\"proximo\"][\"valor\"] != valor:\n",
        "    atual = atual[\"proximo\"]\n",
        "\n",
        "  if atual[\"proximo\"]:\n",
        "    atual[\"proximo\"] = atual[\"proximo\"][\"proximo\"]\n",
        "  return lista\n",
        "\n",
        "\n",
        "no4 = criar_no(40)\n",
        "no3 = criar_no(30, no4)\n",
        "no2 = criar_no(20, no3)\n",
        "no1 = criar_no(10, no2)\n",
        "\n",
        "lista = no1\n",
        "\n",
        "\n",
        "remover_valor(lista, 20)"
      ],
      "metadata": {
        "colab": {
          "base_uri": "https://localhost:8080/"
        },
        "id": "mbRYJTfwHLTT",
        "outputId": "f7b86dda-2d24-44c8-ba91-9600b343584b"
      },
      "execution_count": null,
      "outputs": [
        {
          "output_type": "execute_result",
          "data": {
            "text/plain": [
              "{'valor': 10,\n",
              " 'proximo': {'valor': 30, 'proximo': {'valor': 40, 'proximo': None}}}"
            ]
          },
          "metadata": {},
          "execution_count": 19
        }
      ]
    },
    {
      "cell_type": "markdown",
      "source": [
        "**4. Criar o primeiro nó da lista**\n",
        "\n",
        "**Conceito:** Um nó é um dicionário com um valor e o ponteiro proximo.\n",
        "\n",
        "**Enunciado:** Crie um nó com valor 15 que não aponte para ninguém."
      ],
      "metadata": {
        "id": "ZhF2LZMZMO4q"
      }
    },
    {
      "cell_type": "code",
      "source": [
        "n1 = {\"valor\": 15, \"proximo\" : None}\n",
        "\n",
        "print(n1)"
      ],
      "metadata": {
        "colab": {
          "base_uri": "https://localhost:8080/"
        },
        "id": "VxAGeZvEMdAw",
        "outputId": "b0e7af8f-f2b2-4818-b715-e436f9560caa"
      },
      "execution_count": null,
      "outputs": [
        {
          "output_type": "stream",
          "name": "stdout",
          "text": [
            "{'valor': 15, 'proximo': None}\n"
          ]
        }
      ]
    },
    {
      "cell_type": "markdown",
      "source": [
        "**5. Criar dois nós ligados entre si**\n",
        "\n",
        "**Conceito:** Um nó pode apontar para outro usando a chave 'proximo'.\n",
        "\n",
        "**Enunciado:** Crie dois nós com valores 5 e 8, ligados entre si."
      ],
      "metadata": {
        "id": "_ZCSfuz2NFDw"
      }
    },
    {
      "cell_type": "code",
      "source": [
        "n2 = {\"valor\": 8, \"proximo\" : None}\n",
        "n1 = {\"valor\": 5, \"proximo\": n2}\n",
        "\n",
        "lista = n1\n",
        "\n",
        "lista"
      ],
      "metadata": {
        "colab": {
          "base_uri": "https://localhost:8080/"
        },
        "id": "1-5y1OooNLaA",
        "outputId": "ebdcbe7f-47e5-46b8-91ef-846f1c1ef10c"
      },
      "execution_count": null,
      "outputs": [
        {
          "output_type": "execute_result",
          "data": {
            "text/plain": [
              "{'valor': 5, 'proximo': {'valor': 8, 'proximo': None}}"
            ]
          },
          "metadata": {},
          "execution_count": 24
        }
      ]
    },
    {
      "cell_type": "markdown",
      "source": [
        "**6. Imprimir os valores da lista encadeada**\n",
        "\n",
        "**Conceito:** Usamos um laço while até chegar ao final (None).\n",
        "\n",
        "**Enunciado:** Imprima os valores de uma lista com 2 → 4 → 6."
      ],
      "metadata": {
        "id": "wMkPoiZFOiA5"
      }
    },
    {
      "cell_type": "code",
      "source": [
        "n3 = {\"valor\": 6, \"proximo\": None}\n",
        "n2 = {\"valor\": 4, \"proximo\": n3}\n",
        "n1 = {\"valor\": 2, \"proximo\": n2}\n",
        "\n",
        "atual = n1\n",
        "while atual is not None:\n",
        "  print(atual[\"valor\"])\n",
        "  atual = atual[\"proximo\"]"
      ],
      "metadata": {
        "colab": {
          "base_uri": "https://localhost:8080/"
        },
        "id": "P5uBI9AROrhI",
        "outputId": "f8663d8e-a0aa-4435-90ff-7f8e7cd9cd7b"
      },
      "execution_count": null,
      "outputs": [
        {
          "output_type": "stream",
          "name": "stdout",
          "text": [
            "2\n",
            "4\n",
            "6\n"
          ]
        }
      ]
    },
    {
      "cell_type": "markdown",
      "source": [
        "**7. Contar os elementos de uma lista encadeada**\n",
        "\n",
        "**Conceito:** Iniciamos com contador zero e vamos somando até chegar ao fim.\n",
        "\n",
        "**Enunciado:** Conte quantos elementos tem na lista 11 → 22 → 33 → 44.\n"
      ],
      "metadata": {
        "id": "_ARXLlFMQYYp"
      }
    },
    {
      "cell_type": "code",
      "source": [
        "n4 = {\"valor\": 44, \"proximo\": None}\n",
        "n3 = {\"valor\": 33, \"proximo\": n4}\n",
        "n2 = {\"valor\": 22, \"proximo\": n3}\n",
        "n1 = {\"valor\": 11, \"proximo\": n2}\n",
        "\n",
        "atual = n1\n",
        "contador = 0\n",
        "while atual is not None:\n",
        "  contador += 1\n",
        "  atual = atual[\"proximo\"]\n",
        "\n",
        "contador"
      ],
      "metadata": {
        "colab": {
          "base_uri": "https://localhost:8080/"
        },
        "id": "z2EJ2sMtQdiZ",
        "outputId": "3c685ef7-e3a3-494e-fe0d-3a89801ec101"
      },
      "execution_count": null,
      "outputs": [
        {
          "output_type": "execute_result",
          "data": {
            "text/plain": [
              "4"
            ]
          },
          "metadata": {},
          "execution_count": 31
        }
      ]
    },
    {
      "cell_type": "markdown",
      "source": [
        "**8. Buscar um valor em uma lista encadeada**\n",
        "\n",
        "**Conceito:** Usamos while e if para procurar o valor.\n",
        "\n",
        "**Enunciado:** Verifique se o valor 33 existe na lista 11 → 22 → 33 → 44"
      ],
      "metadata": {
        "id": "yDb7js3CQ3pQ"
      }
    },
    {
      "cell_type": "code",
      "source": [
        "def buscar(lista, valor):\n",
        "  if lista is None:\n",
        "    return None\n",
        "  atual = lista\n",
        "  while atual[\"proximo\"] is not None:\n",
        "    if atual[\"valor\"] == valor:\n",
        "      print(\"Número encontrado\")\n",
        "      return\n",
        "    atual = atual[\"proximo\"]\n",
        "  print(\"Número não encontrado\")\n",
        "\n",
        "\n",
        "n4 = {\"valor\": 44, \"proximo\": None}\n",
        "n3 = {\"valor\": 33, \"proximo\": n4}\n",
        "n2 = {\"valor\": 22, \"proximo\": n3}\n",
        "n1 = {\"valor\": 11, \"proximo\": n2}\n",
        "\n",
        "atual = n1\n",
        "\n",
        "\n",
        "buscar(atual, 33)"
      ],
      "metadata": {
        "colab": {
          "base_uri": "https://localhost:8080/"
        },
        "id": "q5uX2MaBRUdQ",
        "outputId": "166aabfc-9899-4e35-c5ad-cb68930e9df7"
      },
      "execution_count": null,
      "outputs": [
        {
          "output_type": "stream",
          "name": "stdout",
          "text": [
            "Número encontrado\n"
          ]
        }
      ]
    },
    {
      "cell_type": "markdown",
      "source": [
        "**9. Inserir um valor no início da lista**\n",
        "\n",
        "**Conceito:** O novo nó aponta para o início antigo, e passa a ser o novo início.\n",
        "\n",
        "**Enunciado:** Adicione o valor 5 no início da lista 10 → 20."
      ],
      "metadata": {
        "id": "Gq6w9Mk7SYPI"
      }
    },
    {
      "cell_type": "code",
      "source": [
        "def inserir_inicio(lista, valor):\n",
        "  return {\"valor\": valor, \"proximo\": lista}\n",
        "\n",
        "n4 = {\"valor\": 20, \"proximo\": None}\n",
        "n3 = {\"valor\": 10, \"proximo\": n4}\n",
        "\n",
        "lista = n3\n",
        "\n",
        "inserir_inicio(lista, 5)"
      ],
      "metadata": {
        "colab": {
          "base_uri": "https://localhost:8080/"
        },
        "id": "w8IEynwLSgmP",
        "outputId": "eea94861-c09a-411b-c6fc-776eb18bece2"
      },
      "execution_count": null,
      "outputs": [
        {
          "output_type": "execute_result",
          "data": {
            "text/plain": [
              "{'valor': 5,\n",
              " 'proximo': {'valor': 10, 'proximo': {'valor': 20, 'proximo': None}}}"
            ]
          },
          "metadata": {},
          "execution_count": 36
        }
      ]
    },
    {
      "cell_type": "markdown",
      "source": [
        "**10. Inserir um valor no final da lista**\n",
        "\n",
        "**Conceito:** Procuramos o último nó e ligamos um novo nó a ele.\n",
        "\n",
        "**Enunciado:** Adicione o valor 50 ao final da lista 10 → 20 → 30."
      ],
      "metadata": {
        "id": "8nFnEfXfS_AI"
      }
    },
    {
      "cell_type": "code",
      "source": [
        "n4 = {\"valor\": 30, \"proximo\": None}\n",
        "n3 = {\"valor\": 20, \"proximo\": n4}\n",
        "n2 = {\"valor\": 10, \"proximo\": n3}\n",
        "\n",
        "lista = n2\n",
        "\n",
        "while lista[\"proximo\"] is not None:\n",
        "    lista = lista['proximo']\n",
        "lista['proximo'] = {\"valor\": 50, \"proximo\": None}\n",
        "\n",
        "atual = n2\n",
        "while atual is not None:\n",
        "    print(atual[\"valor\"])\n",
        "    atual = atual[\"proximo\"]\n"
      ],
      "metadata": {
        "colab": {
          "base_uri": "https://localhost:8080/"
        },
        "id": "V_cozXc7TFKA",
        "outputId": "ba39216d-4a61-4891-b7f2-0fb08e640d85"
      },
      "execution_count": null,
      "outputs": [
        {
          "output_type": "stream",
          "name": "stdout",
          "text": [
            "10\n",
            "20\n",
            "30\n",
            "50\n"
          ]
        }
      ]
    },
    {
      "cell_type": "markdown",
      "source": [
        "**11. Remover o primeiro nó da lista**\n",
        "\n",
        "**Conceito:** Basta apontar o início para o próximo.\n",
        "\n",
        "**Enunciado:** Remova o primeiro valor da lista 100 → 200 → 300."
      ],
      "metadata": {
        "id": "Ujkhmy7aW4pH"
      }
    },
    {
      "cell_type": "code",
      "source": [
        "n4 = {\"valor\": 300, \"proximo\": None}\n",
        "n3 = {\"valor\": 200, \"proximo\": n4}\n",
        "n2 = {\"valor\": 100, \"proximo\": n3}\n",
        "\n",
        "lista = n2\n",
        "\n",
        "lista = lista[\"proximo\"]\n",
        "\n",
        "print(lista)"
      ],
      "metadata": {
        "colab": {
          "base_uri": "https://localhost:8080/"
        },
        "id": "8zzrW6iTXIWo",
        "outputId": "72d97dd5-c0ed-4781-d44a-a8bcd857b32d"
      },
      "execution_count": null,
      "outputs": [
        {
          "output_type": "stream",
          "name": "stdout",
          "text": [
            "{'valor': 200, 'proximo': {'valor': 300, 'proximo': None}}\n"
          ]
        }
      ]
    },
    {
      "cell_type": "markdown",
      "source": [
        "**12. Remover o último valor da lista**\n",
        "\n",
        "**Conceito:** Percorremos até o penúltimo e colocamos proximo = None.\n",
        "\n",
        "**Enunciado:** Remova o último valor da lista 1 → 2 → 3 → 4."
      ],
      "metadata": {
        "id": "MyaooTRyX7Iw"
      }
    },
    {
      "cell_type": "code",
      "source": [
        "n4 = {\"valor\": 4, \"proximo\": None}\n",
        "n3 = {\"valor\": 3, \"proximo\": n4}\n",
        "n2 = {\"valor\": 2, \"proximo\": n3}\n",
        "n1 = {\"valor\": 1, \"proximo\": n2}\n",
        "\n",
        "atual = n1\n",
        "\n",
        "while atual[\"proximo\"] and atual[\"proximo\"][\"proximo\"] is not None:\n",
        "    atual = atual[\"proximo\"]\n",
        "atual[\"proximo\"] = None  # Remove o último nó\n",
        "\n",
        "#reposicionando a variável atual para o começo da lista\n",
        "atual = n1\n",
        "\n",
        "\n",
        "atual\n"
      ],
      "metadata": {
        "colab": {
          "base_uri": "https://localhost:8080/"
        },
        "id": "5sZcGdtqZODg",
        "outputId": "3130de8f-90bb-4b23-d9d4-95326a09992c"
      },
      "execution_count": 64,
      "outputs": [
        {
          "output_type": "execute_result",
          "data": {
            "text/plain": [
              "{'valor': 1, 'proximo': {'valor': 2, 'proximo': {'valor': 3, 'proximo': None}}}"
            ]
          },
          "metadata": {},
          "execution_count": 64
        }
      ]
    },
    {
      "cell_type": "markdown",
      "source": [
        "**13. Remover um valor específico no meio da lista**\n",
        "\n",
        "**Conceito:** Se encontramos o valor, ligamos o anterior ao próximo dele.\n",
        "\n",
        "**Enunciado:** Remova o valor 30 da lista 10 → 20 → 30 → 40."
      ],
      "metadata": {
        "id": "JCmLz0UwbBxN"
      }
    },
    {
      "cell_type": "code",
      "source": [
        "def excluir(lista, valor):\n",
        "  if lista is None:\n",
        "    return None\n",
        "\n",
        "  if lista['valor'] == valor:\n",
        "    return lista['proximo']\n",
        "\n",
        "  atual = lista\n",
        "  while atual['proximo'] and atual['proximo']['proximo'] != valor:\n",
        "    atual = atual['proximo']\n",
        "  if atual['proximo']:\n",
        "    atual['proximo'] = atual['proximo']['proximo']\n",
        "  return lista\n",
        "\n",
        "\n",
        "n5 = {\"valor\": 40, \"proximo\": None}\n",
        "n4 = {\"valor\": 30, \"proximo\": n5}\n",
        "n3 = {\"valor\": 20, \"proximo\": n4}\n",
        "n2 = {\"valor\": 10, \"proximo\": n3}\n",
        "\n",
        "\n",
        "n6 = n2\n",
        "\n",
        "excluir(n6, 10)\n"
      ],
      "metadata": {
        "colab": {
          "base_uri": "https://localhost:8080/"
        },
        "id": "4KJt9IKIdfUH",
        "outputId": "5eb595b0-0717-4cac-8adb-6448adec1718"
      },
      "execution_count": 65,
      "outputs": [
        {
          "output_type": "execute_result",
          "data": {
            "text/plain": [
              "{'valor': 20,\n",
              " 'proximo': {'valor': 30, 'proximo': {'valor': 40, 'proximo': None}}}"
            ]
          },
          "metadata": {},
          "execution_count": 65
        }
      ]
    },
    {
      "cell_type": "markdown",
      "source": [
        "**14. Verificar se a lista está vazia**\n",
        "\n",
        "**Conceito:** Se o início for None, está vazia.\n",
        "\n",
        "**Enunciado:** Crie uma função que verifica se uma lista está vazia."
      ],
      "metadata": {
        "id": "vlpcOGk7Kcat"
      }
    },
    {
      "cell_type": "code",
      "source": [
        "def vazia(lista):\n",
        "  atual = lista\n",
        "\n",
        "  if atual[\"valor\"] is None:\n",
        "    print(\"Lista vazia\")\n",
        "  else:\n",
        "    print(\"Lista não está vazia.\")\n",
        "\n",
        "\n",
        "n2 = {\"valor\": None, \"proximo\": None}\n",
        "\n",
        "\n",
        "n6 = n2\n",
        "\n",
        "vazia(n6)"
      ],
      "metadata": {
        "colab": {
          "base_uri": "https://localhost:8080/"
        },
        "id": "MObDaehCKrQE",
        "outputId": "3381545f-d40c-49c9-b102-42441f2af27e"
      },
      "execution_count": 66,
      "outputs": [
        {
          "output_type": "stream",
          "name": "stdout",
          "text": [
            "Lista vazia\n"
          ]
        }
      ]
    },
    {
      "cell_type": "markdown",
      "source": [
        "**15. Criar uma lista a partir de um vetor**\n",
        "\n",
        "**Conceito:** Para cada item do vetor, criamos um nó e ligamos ao anterior.\n",
        "\n",
        "**Enunciado:** Transforme o vetor [3, 5, 7] em uma lista encadeada"
      ],
      "metadata": {
        "id": "BmCxm0UQOt_K"
      }
    },
    {
      "cell_type": "code",
      "source": [
        "vetor = [3, 5, 7]\n",
        "\n",
        "lista = None\n",
        "\n",
        "\n",
        "for i in reversed(vetor):\n",
        "    lista = {\"valor\": i, \"proximo\": lista}\n",
        "lista"
      ],
      "metadata": {
        "colab": {
          "base_uri": "https://localhost:8080/"
        },
        "id": "1m2PvnupO8Uz",
        "outputId": "77d5114c-b823-4e20-fe7a-57ce6522262f"
      },
      "execution_count": 59,
      "outputs": [
        {
          "output_type": "execute_result",
          "data": {
            "text/plain": [
              "{'valor': 3, 'proximo': {'valor': 5, 'proximo': {'valor': 7, 'proximo': None}}}"
            ]
          },
          "metadata": {},
          "execution_count": 59
        }
      ]
    },
    {
      "cell_type": "markdown",
      "source": [
        "**16. Comparar vetor com lista encadeada**\n",
        "\n",
        "**Conceito:** Vetores acessam posições rápido. Listas encadeadas são boas para\n",
        "inserir/remover.\n",
        "\n",
        "**Enunciado:** Dê um exemplo em que a lista encadeada é melhor que o vetor."
      ],
      "metadata": {
        "id": "QTnERnqhL0Y1"
      }
    },
    {
      "cell_type": "code",
      "source": [
        "import time\n",
        "\n",
        "inicio_time = time.time()\n",
        "def novo_no(valor, proximo):\n",
        "    return {\"valor\": valor, \"proximo\": proximo}\n",
        "\n",
        "inicio = None\n",
        "for i in range(10000):\n",
        "    inicio = novo_no(i, inicio)\n",
        "fim = time.time()\n",
        "\n",
        "print(f\"Tempo com LISTA ENCADEADA: {fim - inicio_time:.2f} segundos\")"
      ],
      "metadata": {
        "colab": {
          "base_uri": "https://localhost:8080/"
        },
        "id": "QTpRWjR8l0At",
        "outputId": "43794f9b-281c-497c-c169-328acffba7e8"
      },
      "execution_count": 40,
      "outputs": [
        {
          "output_type": "stream",
          "name": "stdout",
          "text": [
            "Tempo com LISTA ENCADEADA: 0.01 segundos\n"
          ]
        }
      ]
    },
    {
      "cell_type": "code",
      "source": [
        "import time\n",
        "\n",
        "inicio = time.time()\n",
        "vetor = []\n",
        "for i in range(10000):\n",
        "    vetor.insert(0, i)\n",
        "fim = time.time()\n",
        "\n",
        "print(f\"Tempo com VETOR: {fim - inicio:.2f} segundos\")"
      ],
      "metadata": {
        "colab": {
          "base_uri": "https://localhost:8080/"
        },
        "id": "VHsXBa4al-uG",
        "outputId": "c546932a-2c1e-4a2c-81a6-4b9ffcab139c"
      },
      "execution_count": 39,
      "outputs": [
        {
          "output_type": "stream",
          "name": "stdout",
          "text": [
            "Tempo com VETOR: 0.02 segundos\n"
          ]
        }
      ]
    },
    {
      "cell_type": "markdown",
      "source": [
        "**17. Imprimir os valores em ordem reversa**\n",
        "\n",
        "**Conceito:** Uma maneira é armazenar os valores em uma lista comum e inverter.\n",
        "\n",
        "**Enunciado:** Imprima os valores da lista 1 → 2 → 3 → 4 em ordem reversa."
      ],
      "metadata": {
        "id": "qE0CWVZ2oMWj"
      }
    },
    {
      "cell_type": "code",
      "source": [
        "def imprimir_reversa(no):\n",
        "    if no is not None:\n",
        "        imprimir_reversa(no[\"proximo\"])\n",
        "        print(no[\"valor\"])\n",
        "\n",
        "n5 = {\"valor\": 40, \"proximo\": None}\n",
        "n4 = {\"valor\": 30, \"proximo\": n5}\n",
        "n3 = {\"valor\": 20, \"proximo\": n4}\n",
        "n2 = {\"valor\": 10, \"proximo\": n3}\n",
        "\n",
        "\n",
        "lista = n2\n",
        "\n",
        "\n",
        "imprimir_reversa(lista)"
      ],
      "metadata": {
        "colab": {
          "base_uri": "https://localhost:8080/"
        },
        "id": "7-uz3GFQoTME",
        "outputId": "ca03d8d1-3b09-43f7-f8be-2d38e95e2ac6"
      },
      "execution_count": 45,
      "outputs": [
        {
          "output_type": "stream",
          "name": "stdout",
          "text": [
            "40\n",
            "30\n",
            "20\n",
            "10\n"
          ]
        }
      ]
    },
    {
      "cell_type": "markdown",
      "source": [
        "Resumo: Função Recursiva imprimir_reversa(no)\n",
        "1. O que é Recursão?\n",
        "Recursão é quando uma função se chama novamente dentro de si mesma.\n",
        "\n",
        "A função só vai terminar quando não houver mais chamadas recursivas.\n",
        "\n",
        "2. Como a função funciona?\n",
        "A função recebe um nó da lista encadeada e passa para o próximo nó até chegar no final (quando o próximo nó é None).\n",
        "\n",
        "Impressão reversa: A função imprime os valores dos nós apenas depois de voltar do final da lista.\n",
        "\n",
        "3. Passo a Passo da Recursão:\n",
        "A função vai descendo até o final da lista, chamando-se para o próximo nó (no[\"proximo\"]).\n",
        "\n",
        "Quando o nó é None, a função retorna e começa a imprimir os valores na ordem reversa.\n",
        "\n",
        "4. Fluxo Detalhado:\n",
        "Descida: A função desce pela lista encadeada até chegar no último nó (quando o próximo nó é None).\n",
        "\n",
        "Subida e Impressão: Após atingir o final, a função começa a voltar para os nós anteriores e vai imprimindo os valores.\n",
        "\n",
        "5. Por que o print acontece só depois?\n",
        "A função não executa o print imediatamente. Ela primeiro chama a próxima função recursiva (para o próximo nó) até chegar no final.\n",
        "\n",
        "A impressão acontece quando as chamadas recursivas começam a voltar. A última chamada (com None) retorna e começa a imprimir os valores, um por um, na ordem inversa.\n",
        "\n",
        "6. Exemplo Prático:\n",
        "Imagine que você tem uma lista encadeada assim:\n",
        "\n",
        "rust\n",
        "Copiar\n",
        "Editar\n",
        "3 -> 2 -> 1\n",
        "O que acontece:\n",
        "\n",
        "A função começa com o nó 3, mas chama imprimir_reversa(2).\n",
        "\n",
        "Depois chama imprimir_reversa(1) e, por fim, imprimir_reversa(None).\n",
        "\n",
        "Quando atinge None, a função começa a voltar para os nós anteriores e imprimir:\n",
        "\n",
        "Imprime 1 (nó 1),\n",
        "\n",
        "Imprime 2 (nó 2),\n",
        "\n",
        "Imprime 3 (nó 3).\n",
        "\n",
        "Resultado final: 1 2 3 (ordem reversa)\n",
        "\n",
        "7. Importante:\n",
        "A recursão é como uma pilha: Cada chamada é \"empilhada\" até que todas as chamadas retornem. O print acontece quando a pilha começa a ser \"desempilhada\".\n",
        "\n",
        "Recursão é útil para trabalhar com estruturas como listas encadeadas, onde não sabemos o número de elementos com antecedência."
      ],
      "metadata": {
        "id": "P5lEn6OdsG1o"
      }
    },
    {
      "cell_type": "markdown",
      "source": [
        "\n",
        "\n",
        "---\n",
        "\n"
      ],
      "metadata": {
        "id": "DZOVLslPvW_g"
      }
    },
    {
      "cell_type": "markdown",
      "source": [
        "**18. Calcular a soma dos valores da lista**\n",
        "\n",
        "**Conceito:** Percorremos e somamos cada valor.\n",
        "\n",
        "**Enunciado:** Calcule a soma dos valores da lista 2 → 4 → 6"
      ],
      "metadata": {
        "id": "1r3-lJR_sXKi"
      }
    },
    {
      "cell_type": "code",
      "source": [
        "n3 = {\"valor\": 6, \"proximo\": None}\n",
        "n2 = {\"valor\": 4, \"proximo\": n3}\n",
        "n1 = {\"valor\": 2, \"proximo\": n2}\n",
        "\n",
        "lista = n1\n",
        "soma = 0\n",
        "\n",
        "while lista[\"proximo\"] is not None:\n",
        "  soma += lista['valor']\n",
        "  lista = lista['proximo']\n",
        "\n",
        "\n",
        "soma\n"
      ],
      "metadata": {
        "colab": {
          "base_uri": "https://localhost:8080/"
        },
        "id": "jFmGjpsTseGq",
        "outputId": "0f14af56-1944-4df7-c989-03effa00069c"
      },
      "execution_count": 51,
      "outputs": [
        {
          "output_type": "execute_result",
          "data": {
            "text/plain": [
              "12"
            ]
          },
          "metadata": {},
          "execution_count": 51
        }
      ]
    },
    {
      "cell_type": "markdown",
      "source": [
        "**19. Inserir valor de forma ordenada**\n",
        "\n",
        "**Conceito:** Encontramos o lugar certo e inserimos o novo nó entre dois nós existentes.\n",
        "\n",
        "**Enunciado:** Insira 25 na lista 10 → 20 → 30 → 40 de forma ordenada."
      ],
      "metadata": {
        "id": "rOkBI3P_vd0u"
      }
    },
    {
      "cell_type": "code",
      "source": [
        "def inserir_valor_ordenado(lista, valor):\n",
        "\n",
        "  if lista is None or valor < lista[\"valor\"]:\n",
        "    return {\"valor\": valor, \"proximo\": lista}\n",
        "  atual = lista\n",
        "\n",
        "\n",
        "  while atual[\"proximo\"] is not None and atual[\"proximo\"][\"valor\"] < valor :\n",
        "    atual = atual[\"proximo\"]\n",
        "\n",
        "  novo_no = {\"valor\": valor, \"proximo\": atual[\"proximo\"]}\n",
        "\n",
        "  atual[\"proximo\"] = novo_no\n",
        "  return lista\n",
        "\n",
        "\n",
        "n4 = {\"valor\": 40, \"proximo\": None}\n",
        "n3 = {\"valor\": 30, \"proximo\": n4}\n",
        "n2 = {\"valor\": 20, \"proximo\": n3}\n",
        "n1 = {\"valor\": 10, \"proximo\": n2}\n",
        "\n",
        "lista = n1\n",
        "\n",
        "\n",
        "inserir_valor_ordenado(lista, 25)\n",
        "\n",
        ""
      ],
      "metadata": {
        "colab": {
          "base_uri": "https://localhost:8080/"
        },
        "id": "dEvpXPLctpSe",
        "outputId": "640f5479-7082-4f09-969e-65dd32a2a553"
      },
      "execution_count": 55,
      "outputs": [
        {
          "output_type": "execute_result",
          "data": {
            "text/plain": [
              "{'valor': 10,\n",
              " 'proximo': {'valor': 20,\n",
              "  'proximo': {'valor': 25,\n",
              "   'proximo': {'valor': 30, 'proximo': {'valor': 40, 'proximo': None}}}}}"
            ]
          },
          "metadata": {},
          "execution_count": 55
        }
      ]
    },
    {
      "cell_type": "markdown",
      "source": [
        "**20. Multiplicar todos os valores por 2**\n",
        "\n",
        "**Conceito:** Percorremos e alteramos o valor de cada nó.\n",
        "\n",
        "**Enunciado:** Multiplique por 2 os valores da lista 1 → 2 → 3"
      ],
      "metadata": {
        "id": "wheEL9tk0SVm"
      }
    },
    {
      "cell_type": "code",
      "source": [
        "def multiplicar_no_pordois(lista):\n",
        "\n",
        "  if lista is None:\n",
        "    return None\n",
        "  atual = lista\n",
        "\n",
        "  while atual is not None:\n",
        "     atual[\"valor\"] *= 2\n",
        "     atual = atual[\"proximo\"]\n",
        "  return lista\n",
        "\n",
        "n3 = {\"valor\": 3, \"proximo\": None}\n",
        "n2 = {\"valor\": 2, \"proximo\": n3}\n",
        "n1 = {\"valor\": 1, \"proximo\": n2}\n",
        "\n",
        "lista = n1\n",
        "\n",
        "multiplicar_no_pordois(lista)"
      ],
      "metadata": {
        "colab": {
          "base_uri": "https://localhost:8080/"
        },
        "id": "KhMGfY8kynpu",
        "outputId": "be5ff0a4-fb33-4d4b-9cd6-c822ecf54e9a"
      },
      "execution_count": 57,
      "outputs": [
        {
          "output_type": "execute_result",
          "data": {
            "text/plain": [
              "{'valor': 2, 'proximo': {'valor': 4, 'proximo': {'valor': 6, 'proximo': None}}}"
            ]
          },
          "metadata": {},
          "execution_count": 57
        }
      ]
    }
  ]
}